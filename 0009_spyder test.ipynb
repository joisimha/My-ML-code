# -*- coding: utf-8 -*-
"""
Created on Sat Mar 25 08:43:48 2017

@author: joisi
"""

import pandas as pd
import numpy as np
