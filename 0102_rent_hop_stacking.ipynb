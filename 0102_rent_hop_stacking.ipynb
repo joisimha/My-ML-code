{
 "cells": [
  {
   "cell_type": "code",
   "execution_count": 1,
   "metadata": {
    "collapsed": true
   },
   "outputs": [],
   "source": [
    "import json\n",
    "import ujson\n",
    "import pandas as pd\n",
    "import numpy as np\n",
    "import datetime\n",
    "import seaborn as sns\n",
    "\n",
    "import matplotlib.pyplot as plt\n",
    "% matplotlib inline"
   ]
  },
  {
   "cell_type": "code",
   "execution_count": 157,
   "metadata": {
    "collapsed": false
   },
   "outputs": [],
   "source": [
    "from sklearn.metrics import f1_score\n",
    "from sklearn.metrics import confusion_matrix\n",
    "from sklearn.metrics import matthews_corrcoef\n",
    "from sklearn.metrics import coverage_error\n",
    "\n",
    "def accuracy(model, X, y, features):\n",
    "    y_true_train = dft['interest_level']\n",
    "    y_true_valid = dfv['interest_level']\n",
    "    y_true_test  = dftest['interest_level']\n",
    "    \n",
    "    y_pred_train = model.predict(dft[features])\n",
    "    y_pred_valid = model.predict(dfv[features])\n",
    "    y_pred_test  = model.predict(dftest[features])\n",
    "        \n",
    "    # F1 score\n",
    "    # print ('F1 score with macro averaging    = ', round(f1_score(y_true, y_pred, average='macro'),2))\n",
    "    # print ('F1 score with micro averaging    = ', round(f1_score(y_true, y_pred, average='micro'),2))\n",
    "    # print ('F1 score with weighted averaging = ', round(f1_score(y_true, y_pred, average='weighted'),2))\n",
    "    \n",
    "    # Score value\n",
    "    scores = model.score(X,y)\n",
    "    print ('Training score value = ', round(scores,2))\n",
    "    \n",
    "       \n",
    "    # Cross Validation scores\n",
    "    # scores = model_selection.cross_val_score(model, X, y, cv=3, scoring='accuracy')\n",
    "    # print ('Cross validation score = ', round(scores,2))"
   ]
  },
  {
   "cell_type": "code",
   "execution_count": 3,
   "metadata": {
    "collapsed": true
   },
   "outputs": [],
   "source": [
    "training= pd.read_json('rent_hop_train.json')"
   ]
  },
  {
   "cell_type": "code",
   "execution_count": 4,
   "metadata": {
    "collapsed": false
   },
   "outputs": [],
   "source": [
    "training['index'] = training.index"
   ]
  },
  {
   "cell_type": "code",
   "execution_count": 14,
   "metadata": {
    "collapsed": false
   },
   "outputs": [],
   "source": [
    "# training.head(3)"
   ]
  },
  {
   "cell_type": "code",
   "execution_count": 6,
   "metadata": {
    "collapsed": false
   },
   "outputs": [
    {
     "name": "stdout",
     "output_type": "stream",
     "text": [
      "['bathrooms' 'bedrooms' 'building_id' 'created' 'description'\n",
      " 'display_address' 'features' 'interest_level' 'latitude' 'listing_id'\n",
      " 'longitude' 'manager_id' 'photos' 'price' 'street_address' 'index']\n"
     ]
    }
   ],
   "source": [
    "print (training.columns.values)"
   ]
  },
  {
   "cell_type": "code",
   "execution_count": 7,
   "metadata": {
    "collapsed": true
   },
   "outputs": [],
   "source": [
    "reorder_cols = ['index', 'building_id','interest_level', 'price', 'bathrooms', 'bedrooms', 'features', 'description', \n",
    " 'display_address',  'street_address', 'latitude', 'longitude', 'photos', 'manager_id','created','listing_id']"
   ]
  },
  {
   "cell_type": "code",
   "execution_count": 8,
   "metadata": {
    "collapsed": true
   },
   "outputs": [],
   "source": [
    "training = training[reorder_cols]"
   ]
  },
  {
   "cell_type": "code",
   "execution_count": 17,
   "metadata": {
    "collapsed": false
   },
   "outputs": [],
   "source": [
    "#print (training.columns.values)"
   ]
  },
  {
   "cell_type": "code",
   "execution_count": 9,
   "metadata": {
    "collapsed": false
   },
   "outputs": [
    {
     "data": {
      "text/html": [
       "<div>\n",
       "<table border=\"1\" class=\"dataframe\">\n",
       "  <thead>\n",
       "    <tr style=\"text-align: right;\">\n",
       "      <th></th>\n",
       "      <th>index</th>\n",
       "      <th>building_id</th>\n",
       "      <th>interest_level</th>\n",
       "      <th>price</th>\n",
       "      <th>bathrooms</th>\n",
       "      <th>bedrooms</th>\n",
       "      <th>features</th>\n",
       "      <th>description</th>\n",
       "      <th>display_address</th>\n",
       "      <th>street_address</th>\n",
       "      <th>latitude</th>\n",
       "      <th>longitude</th>\n",
       "      <th>photos</th>\n",
       "      <th>manager_id</th>\n",
       "      <th>created</th>\n",
       "      <th>listing_id</th>\n",
       "    </tr>\n",
       "  </thead>\n",
       "  <tbody>\n",
       "    <tr>\n",
       "      <th>10</th>\n",
       "      <td>10</td>\n",
       "      <td>53a5b119ba8f7b61d4e010512e0dfc85</td>\n",
       "      <td>medium</td>\n",
       "      <td>3000</td>\n",
       "      <td>1.5</td>\n",
       "      <td>3</td>\n",
       "      <td>[]</td>\n",
       "      <td>A Brand New 3 Bedroom 1.5 bath ApartmentEnjoy ...</td>\n",
       "      <td>Metropolitan Avenue</td>\n",
       "      <td>792 Metropolitan Avenue</td>\n",
       "      <td>40.7145</td>\n",
       "      <td>-73.9425</td>\n",
       "      <td>[https://photos.renthop.com/2/7211212_1ed4542e...</td>\n",
       "      <td>5ba989232d0489da1b5f2c45f6688adc</td>\n",
       "      <td>2016-06-24 07:54:24</td>\n",
       "      <td>7211212</td>\n",
       "    </tr>\n",
       "    <tr>\n",
       "      <th>10000</th>\n",
       "      <td>10000</td>\n",
       "      <td>c5c8a357cba207596b04d1afd1e4f130</td>\n",
       "      <td>low</td>\n",
       "      <td>5465</td>\n",
       "      <td>1.0</td>\n",
       "      <td>2</td>\n",
       "      <td>[Doorman, Elevator, Fitness Center, Cats Allow...</td>\n",
       "      <td></td>\n",
       "      <td>Columbus Avenue</td>\n",
       "      <td>808 Columbus Avenue</td>\n",
       "      <td>40.7947</td>\n",
       "      <td>-73.9667</td>\n",
       "      <td>[https://photos.renthop.com/2/7150865_be3306c5...</td>\n",
       "      <td>7533621a882f71e25173b27e3139d83d</td>\n",
       "      <td>2016-06-12 12:19:27</td>\n",
       "      <td>7150865</td>\n",
       "    </tr>\n",
       "    <tr>\n",
       "      <th>100004</th>\n",
       "      <td>100004</td>\n",
       "      <td>c3ba40552e2120b0acfc3cb5730bb2aa</td>\n",
       "      <td>high</td>\n",
       "      <td>2850</td>\n",
       "      <td>1.0</td>\n",
       "      <td>1</td>\n",
       "      <td>[Laundry In Building, Dishwasher, Hardwood Flo...</td>\n",
       "      <td>Top Top West Village location, beautiful Pre-w...</td>\n",
       "      <td>W 13 Street</td>\n",
       "      <td>241 W 13 Street</td>\n",
       "      <td>40.7388</td>\n",
       "      <td>-74.0018</td>\n",
       "      <td>[https://photos.renthop.com/2/6887163_de85c427...</td>\n",
       "      <td>d9039c43983f6e564b1482b273bd7b01</td>\n",
       "      <td>2016-04-17 03:26:41</td>\n",
       "      <td>6887163</td>\n",
       "    </tr>\n",
       "  </tbody>\n",
       "</table>\n",
       "</div>"
      ],
      "text/plain": [
       "         index                       building_id interest_level  price  \\\n",
       "10          10  53a5b119ba8f7b61d4e010512e0dfc85         medium   3000   \n",
       "10000    10000  c5c8a357cba207596b04d1afd1e4f130            low   5465   \n",
       "100004  100004  c3ba40552e2120b0acfc3cb5730bb2aa           high   2850   \n",
       "\n",
       "        bathrooms  bedrooms  \\\n",
       "10            1.5         3   \n",
       "10000         1.0         2   \n",
       "100004        1.0         1   \n",
       "\n",
       "                                                 features  \\\n",
       "10                                                     []   \n",
       "10000   [Doorman, Elevator, Fitness Center, Cats Allow...   \n",
       "100004  [Laundry In Building, Dishwasher, Hardwood Flo...   \n",
       "\n",
       "                                              description  \\\n",
       "10      A Brand New 3 Bedroom 1.5 bath ApartmentEnjoy ...   \n",
       "10000                                                       \n",
       "100004  Top Top West Village location, beautiful Pre-w...   \n",
       "\n",
       "            display_address           street_address  latitude  longitude  \\\n",
       "10      Metropolitan Avenue  792 Metropolitan Avenue   40.7145   -73.9425   \n",
       "10000       Columbus Avenue      808 Columbus Avenue   40.7947   -73.9667   \n",
       "100004          W 13 Street          241 W 13 Street   40.7388   -74.0018   \n",
       "\n",
       "                                                   photos  \\\n",
       "10      [https://photos.renthop.com/2/7211212_1ed4542e...   \n",
       "10000   [https://photos.renthop.com/2/7150865_be3306c5...   \n",
       "100004  [https://photos.renthop.com/2/6887163_de85c427...   \n",
       "\n",
       "                              manager_id              created  listing_id  \n",
       "10      5ba989232d0489da1b5f2c45f6688adc  2016-06-24 07:54:24     7211212  \n",
       "10000   7533621a882f71e25173b27e3139d83d  2016-06-12 12:19:27     7150865  \n",
       "100004  d9039c43983f6e564b1482b273bd7b01  2016-04-17 03:26:41     6887163  "
      ]
     },
     "execution_count": 9,
     "metadata": {},
     "output_type": "execute_result"
    }
   ],
   "source": [
    "training.head(3)"
   ]
  },
  {
   "cell_type": "code",
   "execution_count": 13,
   "metadata": {
    "collapsed": false
   },
   "outputs": [
    {
     "data": {
      "text/plain": [
       "index              0\n",
       "building_id        0\n",
       "interest_level     0\n",
       "price              0\n",
       "bathrooms          0\n",
       "bedrooms           0\n",
       "features           0\n",
       "description        0\n",
       "display_address    0\n",
       "street_address     0\n",
       "latitude           0\n",
       "longitude          0\n",
       "photos             0\n",
       "manager_id         0\n",
       "created            0\n",
       "listing_id         0\n",
       "dtype: int64"
      ]
     },
     "execution_count": 13,
     "metadata": {},
     "output_type": "execute_result"
    }
   ],
   "source": [
    "training.isnull().sum()"
   ]
  },
  {
   "cell_type": "markdown",
   "metadata": {},
   "source": [
    "### Define classification models and their features"
   ]
  },
  {
   "cell_type": "markdown",
   "metadata": {},
   "source": [
    "#### Split dataset into train (dft), valid (dfv), test (dftest)"
   ]
  },
  {
   "cell_type": "code",
   "execution_count": 18,
   "metadata": {
    "collapsed": false
   },
   "outputs": [
    {
     "name": "stdout",
     "output_type": "stream",
     "text": [
      "['index' 'building_id' 'interest_level' 'price' 'bathrooms' 'bedrooms'\n",
      " 'features' 'description' 'display_address' 'street_address' 'latitude'\n",
      " 'longitude' 'photos' 'manager_id' 'created' 'listing_id']\n"
     ]
    }
   ],
   "source": [
    "print (training.columns.values)"
   ]
  },
  {
   "cell_type": "code",
   "execution_count": 20,
   "metadata": {
    "collapsed": false
   },
   "outputs": [],
   "source": [
    "from sklearn.model_selection import train_test_split as split\n",
    "df, dftest = split(training, test_size=0.10, random_state=100)\n",
    "dft, dfv = split(df, test_size = 0.2, random_state = 100)"
   ]
  },
  {
   "cell_type": "code",
   "execution_count": 22,
   "metadata": {
    "collapsed": false
   },
   "outputs": [
    {
     "data": {
      "text/html": [
       "<div>\n",
       "<table border=\"1\" class=\"dataframe\">\n",
       "  <thead>\n",
       "    <tr style=\"text-align: right;\">\n",
       "      <th></th>\n",
       "      <th>index</th>\n",
       "      <th>building_id</th>\n",
       "      <th>interest_level</th>\n",
       "      <th>price</th>\n",
       "      <th>bathrooms</th>\n",
       "      <th>bedrooms</th>\n",
       "      <th>features</th>\n",
       "      <th>description</th>\n",
       "      <th>display_address</th>\n",
       "      <th>street_address</th>\n",
       "      <th>latitude</th>\n",
       "      <th>longitude</th>\n",
       "      <th>photos</th>\n",
       "      <th>manager_id</th>\n",
       "      <th>created</th>\n",
       "      <th>listing_id</th>\n",
       "    </tr>\n",
       "  </thead>\n",
       "  <tbody>\n",
       "    <tr>\n",
       "      <th>69840</th>\n",
       "      <td>69840</td>\n",
       "      <td>4a8bc449d73570bf5eb780c1f0b81313</td>\n",
       "      <td>low</td>\n",
       "      <td>3150</td>\n",
       "      <td>1.0</td>\n",
       "      <td>2</td>\n",
       "      <td>[Doorman, Elevator, Laundry in Building, Hardw...</td>\n",
       "      <td>WONDERFUL Two Bedroom on Roosevelt Island. Ver...</td>\n",
       "      <td>Main St.</td>\n",
       "      <td>560 Main St.</td>\n",
       "      <td>40.7622</td>\n",
       "      <td>-73.9495</td>\n",
       "      <td>[https://photos.renthop.com/2/7025973_7bfe46b3...</td>\n",
       "      <td>39af186286605963b1d75543e1492c61</td>\n",
       "      <td>2016-05-17 14:42:01</td>\n",
       "      <td>7025973</td>\n",
       "    </tr>\n",
       "    <tr>\n",
       "      <th>87053</th>\n",
       "      <td>87053</td>\n",
       "      <td>9f60193f1599b23e425e9ebe4e76b0e8</td>\n",
       "      <td>low</td>\n",
       "      <td>2800</td>\n",
       "      <td>1.0</td>\n",
       "      <td>1</td>\n",
       "      <td>[Pre-War]</td>\n",
       "      <td>15 Stanton Stfloor-through studio. 750 sq ft$2...</td>\n",
       "      <td>Stanton Street</td>\n",
       "      <td>15 Stanton Street</td>\n",
       "      <td>40.7224</td>\n",
       "      <td>-73.9923</td>\n",
       "      <td>[https://photos.renthop.com/2/6816174_15d873d7...</td>\n",
       "      <td>c70dac1e7841801c3f8257de18f21561</td>\n",
       "      <td>2016-04-02 05:44:35</td>\n",
       "      <td>6816174</td>\n",
       "    </tr>\n",
       "    <tr>\n",
       "      <th>94803</th>\n",
       "      <td>94803</td>\n",
       "      <td>ebbc2f5e5bba7672cbbfe3d12e25053a</td>\n",
       "      <td>low</td>\n",
       "      <td>4195</td>\n",
       "      <td>1.0</td>\n",
       "      <td>2</td>\n",
       "      <td>[Elevator, Pre-War, Laundry in Building, Dishw...</td>\n",
       "      <td>Prewar Perfection.  Sunny, beautiful two bedro...</td>\n",
       "      <td>231 West 21st Street</td>\n",
       "      <td>231 West 21st Street</td>\n",
       "      <td>40.7436</td>\n",
       "      <td>-73.9978</td>\n",
       "      <td>[https://photos.renthop.com/2/6893990_e41095b1...</td>\n",
       "      <td>383f3c86390d40627c14343949cf1d09</td>\n",
       "      <td>2016-04-19 03:28:43</td>\n",
       "      <td>6893990</td>\n",
       "    </tr>\n",
       "  </tbody>\n",
       "</table>\n",
       "</div>"
      ],
      "text/plain": [
       "       index                       building_id interest_level  price  \\\n",
       "69840  69840  4a8bc449d73570bf5eb780c1f0b81313            low   3150   \n",
       "87053  87053  9f60193f1599b23e425e9ebe4e76b0e8            low   2800   \n",
       "94803  94803  ebbc2f5e5bba7672cbbfe3d12e25053a            low   4195   \n",
       "\n",
       "       bathrooms  bedrooms                                           features  \\\n",
       "69840        1.0         2  [Doorman, Elevator, Laundry in Building, Hardw...   \n",
       "87053        1.0         1                                          [Pre-War]   \n",
       "94803        1.0         2  [Elevator, Pre-War, Laundry in Building, Dishw...   \n",
       "\n",
       "                                             description  \\\n",
       "69840  WONDERFUL Two Bedroom on Roosevelt Island. Ver...   \n",
       "87053  15 Stanton Stfloor-through studio. 750 sq ft$2...   \n",
       "94803  Prewar Perfection.  Sunny, beautiful two bedro...   \n",
       "\n",
       "            display_address        street_address  latitude  longitude  \\\n",
       "69840              Main St.          560 Main St.   40.7622   -73.9495   \n",
       "87053        Stanton Street     15 Stanton Street   40.7224   -73.9923   \n",
       "94803  231 West 21st Street  231 West 21st Street   40.7436   -73.9978   \n",
       "\n",
       "                                                  photos  \\\n",
       "69840  [https://photos.renthop.com/2/7025973_7bfe46b3...   \n",
       "87053  [https://photos.renthop.com/2/6816174_15d873d7...   \n",
       "94803  [https://photos.renthop.com/2/6893990_e41095b1...   \n",
       "\n",
       "                             manager_id              created  listing_id  \n",
       "69840  39af186286605963b1d75543e1492c61  2016-05-17 14:42:01     7025973  \n",
       "87053  c70dac1e7841801c3f8257de18f21561  2016-04-02 05:44:35     6816174  \n",
       "94803  383f3c86390d40627c14343949cf1d09  2016-04-19 03:28:43     6893990  "
      ]
     },
     "execution_count": 22,
     "metadata": {},
     "output_type": "execute_result"
    }
   ],
   "source": [
    "dft.head(3)"
   ]
  },
  {
   "cell_type": "code",
   "execution_count": 16,
   "metadata": {
    "collapsed": false
   },
   "outputs": [],
   "source": [
    "# rfr = Random Forest Classifier - decision stumps that narrow down interest level path\n",
    "rfr_features = ['price', 'bathrooms', 'bedrooms']"
   ]
  },
  {
   "cell_type": "code",
   "execution_count": 24,
   "metadata": {
    "collapsed": false
   },
   "outputs": [],
   "source": [
    "# text = Text Analyzer - understand key words that predict interest\n",
    "text_features = ['features', 'description']"
   ]
  },
  {
   "cell_type": "code",
   "execution_count": 25,
   "metadata": {
    "collapsed": true
   },
   "outputs": [],
   "source": [
    "# nn = Nearest Neighbor to understand patterns in interest level as it pertains to geographical location\n",
    "# Need tp create tfidf for display address - choosing this instead of street address....assuming door number is not important\n",
    "\n",
    "nn_features = ['latitude', 'longitude', 'tfidf_display_address']\n"
   ]
  },
  {
   "cell_type": "code",
   "execution_count": 26,
   "metadata": {
    "collapsed": true
   },
   "outputs": [],
   "source": [
    "# lr = Logistic Regression on RGB pixel intensity\n",
    "lr_features = ['photos']"
   ]
  },
  {
   "cell_type": "code",
   "execution_count": 27,
   "metadata": {
    "collapsed": true
   },
   "outputs": [],
   "source": [
    "target = ['interest_level']"
   ]
  },
  {
   "cell_type": "markdown",
   "metadata": {},
   "source": [
    "##### Unused features = ['created', 'manager_id', 'listing_id', 'building_id', 'street_address' ]"
   ]
  },
  {
   "cell_type": "markdown",
   "metadata": {},
   "source": [
    "#### Build individual models"
   ]
  },
  {
   "cell_type": "code",
   "execution_count": 52,
   "metadata": {
    "collapsed": false
   },
   "outputs": [],
   "source": [
    "from sklearn import model_selection\n",
    "\n",
    "# rfr\n",
    "from sklearn.ensemble import RandomForestClassifier\n",
    "\n",
    "#text - TFIDF transformer\n",
    "from sklearn.feature_extraction.text import TfidfVectorizer\n",
    "\n",
    "# KNN\n",
    "from sklearn.neighbors import KNeighborsClassifier\n",
    "\n",
    "# LR\n",
    "from sklearn.linear_model import LogisticRegression\n",
    "\n",
    "# Stacking\n",
    "from mlxtend.classifier import StackingClassifier\n"
   ]
  },
  {
   "cell_type": "code",
   "execution_count": 29,
   "metadata": {
    "collapsed": true
   },
   "outputs": [],
   "source": [
    "# load classifiers objects\n",
    "\n",
    "rfr = RandomForestClassifier(random_state=1)\n",
    "nn = KNeighborsClassifier(n_neighbors=1)\n",
    "lr = LogisticRegression()"
   ]
  },
  {
   "cell_type": "markdown",
   "metadata": {},
   "source": [
    "### Define stacking classifier"
   ]
  },
  {
   "cell_type": "code",
   "execution_count": 30,
   "metadata": {
    "collapsed": false
   },
   "outputs": [],
   "source": [
    "# stack1 = StackingClassifier(classifiers = [clf1, clf3], meta_classifier=lr)"
   ]
  },
  {
   "cell_type": "markdown",
   "metadata": {},
   "source": [
    "#### Trial with RFR"
   ]
  },
  {
   "cell_type": "code",
   "execution_count": 164,
   "metadata": {
    "collapsed": false
   },
   "outputs": [
    {
     "data": {
      "text/plain": [
       "49352"
      ]
     },
     "execution_count": 164,
     "metadata": {},
     "output_type": "execute_result"
    }
   ],
   "source": [
    "training.shape[0]"
   ]
  },
  {
   "cell_type": "code",
   "execution_count": 35,
   "metadata": {
    "collapsed": false
   },
   "outputs": [],
   "source": [
    "X_rfr = dft[rfr_features]\n",
    "y = dft['interest_level']"
   ]
  },
  {
   "cell_type": "code",
   "execution_count": 169,
   "metadata": {
    "collapsed": false
   },
   "outputs": [
    {
     "name": "stderr",
     "output_type": "stream",
     "text": [
      "C:\\Users\\joisi\\Anaconda3\\lib\\site-packages\\ipykernel\\__main__.py:4: DataConversionWarning: A column-vector y was passed when a 1d array was expected. Please change the shape of y to (n_samples,), for example using ravel().\n"
     ]
    },
    {
     "name": "stdout",
     "output_type": "stream",
     "text": [
      "Training score value =  0.73\n"
     ]
    }
   ],
   "source": [
    "X_full = training[rfr_features]\n",
    "y_full = training[target]\n",
    "rfr1 = RandomForestClassifier(random_state = 100, min_samples_leaf = 1)\n",
    "rfr1.fit(X_full, y_full)\n",
    "accuracy(rfr1, X_full, y_full, rfr_features)"
   ]
  },
  {
   "cell_type": "code",
   "execution_count": 36,
   "metadata": {
    "collapsed": false
   },
   "outputs": [],
   "source": [
    "rfr = rfr.fit(X_rfr, y)"
   ]
  },
  {
   "cell_type": "code",
   "execution_count": 50,
   "metadata": {
    "collapsed": false
   },
   "outputs": [
    {
     "name": "stdout",
     "output_type": "stream",
     "text": [
      "Score value [0,1]  =  0.73\n",
      "Score value [0,1]  =  0.68\n",
      "Score value [0,1]  =  0.7\n"
     ]
    }
   ],
   "source": [
    "accuracy(rfr, X_rfr, y)\n",
    "accuracy(rfr, dfv[rfr_features], dfv[target])\n",
    "accuracy(rfr, dftest[rfr_features], dftest[target])"
   ]
  },
  {
   "cell_type": "markdown",
   "metadata": {},
   "source": [
    "#### Playing with TFIDF "
   ]
  },
  {
   "cell_type": "code",
   "execution_count": 145,
   "metadata": {
    "collapsed": false
   },
   "outputs": [
    {
     "name": "stdout",
     "output_type": "stream",
     "text": [
      "Unsorted Vocabulary  :  {'my': 4, 'love': 3, 'is': 1, 'jaisimha': 2, 'name': 5, 'algorithms': 0}\n",
      "\n",
      "Sorted Vocabulary  :  [('algorithms', 0), ('is', 1), ('jaisimha', 2), ('love', 3), ('my', 4), ('name', 5)]\n"
     ]
    }
   ],
   "source": [
    "from sklearn.feature_extraction.text import CountVectorizer\n",
    "import operator\n",
    "\n",
    "cv = CountVectorizer()\n",
    "\n",
    "train_set = (\"Jaisimha is my name\", \"I love Algorithms\")\n",
    "test_set  = (\"Abrar is an employee of mine\", \"He is a Data Science consultant\")\n",
    "\n",
    "cv.fit_transform(train_set)\n",
    "vocab = cv.vocabulary_\n",
    "\n",
    "print (\"Unsorted Vocabulary  : \", vocab)\n",
    "print (\"\")\n",
    "sorted_vocab = sorted(vocab.items(), key=operator.itemgetter(1),reverse=False)\n",
    "print (\"Sorted Vocabulary  : \", sorted_vocab)\n",
    "\n",
    "\n"
   ]
  },
  {
   "cell_type": "code",
   "execution_count": 146,
   "metadata": {
    "collapsed": false
   },
   "outputs": [
    {
     "name": "stdout",
     "output_type": "stream",
     "text": [
      "[[0 1 0 0 0 0]\n",
      " [0 1 0 0 0 0]]\n"
     ]
    }
   ],
   "source": [
    "freq_term_matrix = cv.transform(test_set)\n",
    "print (freq_term_matrix.todense())\n"
   ]
  },
  {
   "cell_type": "code",
   "execution_count": 147,
   "metadata": {
    "collapsed": false
   },
   "outputs": [
    {
     "name": "stdout",
     "output_type": "stream",
     "text": [
      "IDF :  [ 2.09861229  1.          2.09861229  2.09861229  2.09861229  2.09861229]\n"
     ]
    }
   ],
   "source": [
    "from sklearn.feature_extraction.text import TfidfTransformer\n",
    "\n",
    "ttfidf = TfidfTransformer(norm='l2')\n",
    "ttfidf.fit(freq_term_matrix)\n",
    "\n",
    "print (\"IDF : \", ttfidf.idf_)"
   ]
  },
  {
   "cell_type": "code",
   "execution_count": null,
   "metadata": {
    "collapsed": false
   },
   "outputs": [],
   "source": []
  },
  {
   "cell_type": "markdown",
   "metadata": {
    "collapsed": false
   },
   "source": [
    "#### Trial with TFIDF as features and predict interest_level using Logistic classification"
   ]
  },
  {
   "cell_type": "code",
   "execution_count": null,
   "metadata": {
    "collapsed": true
   },
   "outputs": [],
   "source": []
  },
  {
   "cell_type": "code",
   "execution_count": 96,
   "metadata": {
    "collapsed": false
   },
   "outputs": [],
   "source": [
    "# tfidf = TfidfVectorizer(analyzer='word', norm='l2', sublinear_tf=False, lowercase=True)"
   ]
  },
  {
   "cell_type": "code",
   "execution_count": 97,
   "metadata": {
    "collapsed": false
   },
   "outputs": [],
   "source": [
    "# tfidf.fit(dft['description'])"
   ]
  },
  {
   "cell_type": "code",
   "execution_count": 98,
   "metadata": {
    "collapsed": false
   },
   "outputs": [],
   "source": [
    "# tfidf.transform(df['description'])"
   ]
  },
  {
   "cell_type": "code",
   "execution_count": 99,
   "metadata": {
    "collapsed": false
   },
   "outputs": [],
   "source": [
    "# dft['desc_tfidf'] = tfidf.vocabulary"
   ]
  },
  {
   "cell_type": "code",
   "execution_count": null,
   "metadata": {
    "collapsed": false
   },
   "outputs": [],
   "source": []
  },
  {
   "cell_type": "code",
   "execution_count": 100,
   "metadata": {
    "collapsed": false
   },
   "outputs": [],
   "source": [
    "# print (dft['desc_tfidf'].shape, dft[target].shape)"
   ]
  },
  {
   "cell_type": "markdown",
   "metadata": {},
   "source": []
  },
  {
   "cell_type": "code",
   "execution_count": 84,
   "metadata": {
    "collapsed": true
   },
   "outputs": [],
   "source": [
    "X_lr = dft['desc_tfidf']\n",
    "y = dft[target]"
   ]
  },
  {
   "cell_type": "code",
   "execution_count": 85,
   "metadata": {
    "collapsed": false
   },
   "outputs": [
    {
     "ename": "ValueError",
     "evalue": "setting an array element with a sequence.",
     "output_type": "error",
     "traceback": [
      "\u001b[0;31m---------------------------------------------------------------------------\u001b[0m",
      "\u001b[0;31mValueError\u001b[0m                                Traceback (most recent call last)",
      "\u001b[0;32m<ipython-input-85-5bcbda764826>\u001b[0m in \u001b[0;36m<module>\u001b[0;34m()\u001b[0m\n\u001b[0;32m----> 1\u001b[0;31m \u001b[0mlr\u001b[0m \u001b[1;33m=\u001b[0m \u001b[0mlr\u001b[0m\u001b[1;33m.\u001b[0m\u001b[0mfit\u001b[0m\u001b[1;33m(\u001b[0m\u001b[0mX_lr\u001b[0m\u001b[1;33m,\u001b[0m\u001b[0my\u001b[0m\u001b[1;33m)\u001b[0m\u001b[1;33m\u001b[0m\u001b[0m\n\u001b[0m",
      "\u001b[0;32mC:\\Users\\joisi\\Anaconda3\\lib\\site-packages\\sklearn\\linear_model\\logistic.py\u001b[0m in \u001b[0;36mfit\u001b[0;34m(self, X, y, sample_weight)\u001b[0m\n\u001b[1;32m   1171\u001b[0m \u001b[1;33m\u001b[0m\u001b[0m\n\u001b[1;32m   1172\u001b[0m         X, y = check_X_y(X, y, accept_sparse='csr', dtype=np.float64,\n\u001b[0;32m-> 1173\u001b[0;31m                          order=\"C\")\n\u001b[0m\u001b[1;32m   1174\u001b[0m         \u001b[0mcheck_classification_targets\u001b[0m\u001b[1;33m(\u001b[0m\u001b[0my\u001b[0m\u001b[1;33m)\u001b[0m\u001b[1;33m\u001b[0m\u001b[0m\n\u001b[1;32m   1175\u001b[0m         \u001b[0mself\u001b[0m\u001b[1;33m.\u001b[0m\u001b[0mclasses_\u001b[0m \u001b[1;33m=\u001b[0m \u001b[0mnp\u001b[0m\u001b[1;33m.\u001b[0m\u001b[0munique\u001b[0m\u001b[1;33m(\u001b[0m\u001b[0my\u001b[0m\u001b[1;33m)\u001b[0m\u001b[1;33m\u001b[0m\u001b[0m\n",
      "\u001b[0;32mC:\\Users\\joisi\\Anaconda3\\lib\\site-packages\\sklearn\\utils\\validation.py\u001b[0m in \u001b[0;36mcheck_X_y\u001b[0;34m(X, y, accept_sparse, dtype, order, copy, force_all_finite, ensure_2d, allow_nd, multi_output, ensure_min_samples, ensure_min_features, y_numeric, warn_on_dtype, estimator)\u001b[0m\n\u001b[1;32m    519\u001b[0m     X = check_array(X, accept_sparse, dtype, order, copy, force_all_finite,\n\u001b[1;32m    520\u001b[0m                     \u001b[0mensure_2d\u001b[0m\u001b[1;33m,\u001b[0m \u001b[0mallow_nd\u001b[0m\u001b[1;33m,\u001b[0m \u001b[0mensure_min_samples\u001b[0m\u001b[1;33m,\u001b[0m\u001b[1;33m\u001b[0m\u001b[0m\n\u001b[0;32m--> 521\u001b[0;31m                     ensure_min_features, warn_on_dtype, estimator)\n\u001b[0m\u001b[1;32m    522\u001b[0m     \u001b[1;32mif\u001b[0m \u001b[0mmulti_output\u001b[0m\u001b[1;33m:\u001b[0m\u001b[1;33m\u001b[0m\u001b[0m\n\u001b[1;32m    523\u001b[0m         y = check_array(y, 'csr', force_all_finite=True, ensure_2d=False,\n",
      "\u001b[0;32mC:\\Users\\joisi\\Anaconda3\\lib\\site-packages\\sklearn\\utils\\validation.py\u001b[0m in \u001b[0;36mcheck_array\u001b[0;34m(array, accept_sparse, dtype, order, copy, force_all_finite, ensure_2d, allow_nd, ensure_min_samples, ensure_min_features, warn_on_dtype, estimator)\u001b[0m\n\u001b[1;32m    380\u001b[0m                                       force_all_finite)\n\u001b[1;32m    381\u001b[0m     \u001b[1;32melse\u001b[0m\u001b[1;33m:\u001b[0m\u001b[1;33m\u001b[0m\u001b[0m\n\u001b[0;32m--> 382\u001b[0;31m         \u001b[0marray\u001b[0m \u001b[1;33m=\u001b[0m \u001b[0mnp\u001b[0m\u001b[1;33m.\u001b[0m\u001b[0marray\u001b[0m\u001b[1;33m(\u001b[0m\u001b[0marray\u001b[0m\u001b[1;33m,\u001b[0m \u001b[0mdtype\u001b[0m\u001b[1;33m=\u001b[0m\u001b[0mdtype\u001b[0m\u001b[1;33m,\u001b[0m \u001b[0morder\u001b[0m\u001b[1;33m=\u001b[0m\u001b[0morder\u001b[0m\u001b[1;33m,\u001b[0m \u001b[0mcopy\u001b[0m\u001b[1;33m=\u001b[0m\u001b[0mcopy\u001b[0m\u001b[1;33m)\u001b[0m\u001b[1;33m\u001b[0m\u001b[0m\n\u001b[0m\u001b[1;32m    383\u001b[0m \u001b[1;33m\u001b[0m\u001b[0m\n\u001b[1;32m    384\u001b[0m         \u001b[1;32mif\u001b[0m \u001b[0mensure_2d\u001b[0m\u001b[1;33m:\u001b[0m\u001b[1;33m\u001b[0m\u001b[0m\n",
      "\u001b[0;31mValueError\u001b[0m: setting an array element with a sequence."
     ]
    }
   ],
   "source": [
    "lr = lr.fit(X_lr,y)"
   ]
  },
  {
   "cell_type": "code",
   "execution_count": 49,
   "metadata": {
    "collapsed": false
   },
   "outputs": [
    {
     "name": "stdout",
     "output_type": "stream",
     "text": [
      "Score value [0,1]  =  0.69\n",
      "Score value [0,1]  =  0.69\n",
      "Score value [0,1]  =  0.71\n"
     ]
    }
   ],
   "source": [
    "accuracy(lr, X_lr, y)\n",
    "accuracy(lr, dfv[rfr_features], dfv[target])\n",
    "accuracy(lr, dftest[rfr_features], dftest[target])"
   ]
  },
  {
   "cell_type": "code",
   "execution_count": null,
   "metadata": {
    "collapsed": false
   },
   "outputs": [],
   "source": []
  },
  {
   "cell_type": "code",
   "execution_count": null,
   "metadata": {
    "collapsed": false
   },
   "outputs": [],
   "source": []
  },
  {
   "cell_type": "code",
   "execution_count": null,
   "metadata": {
    "collapsed": false
   },
   "outputs": [],
   "source": []
  },
  {
   "cell_type": "markdown",
   "metadata": {},
   "source": [
    "#### ^^^ Logistic regression as its own single classifier does bad just like Linear Regression "
   ]
  },
  {
   "cell_type": "code",
   "execution_count": 202,
   "metadata": {
    "collapsed": false
   },
   "outputs": [],
   "source": []
  },
  {
   "cell_type": "code",
   "execution_count": 232,
   "metadata": {
    "collapsed": true
   },
   "outputs": [],
   "source": [
    "# wrongs = Final[Final['predicted_clf1'] != Final['interest_level']].count()['index']\n",
    "# acc = wrongs*1./Final.shape[0]\n",
    "# total = Final.shape[0]\n",
    "# print (wrongs, total, round(float(1-(wrongs/total)),2))"
   ]
  },
  {
   "cell_type": "code",
   "execution_count": null,
   "metadata": {
    "collapsed": true
   },
   "outputs": [],
   "source": []
  }
 ],
 "metadata": {
  "anaconda-cloud": {},
  "kernelspec": {
   "display_name": "Python [default]",
   "language": "python",
   "name": "python3"
  },
  "language_info": {
   "codemirror_mode": {
    "name": "ipython",
    "version": 3
   },
   "file_extension": ".py",
   "mimetype": "text/x-python",
   "name": "python",
   "nbconvert_exporter": "python",
   "pygments_lexer": "ipython3",
   "version": "3.5.2"
  }
 },
 "nbformat": 4,
 "nbformat_minor": 1
}
